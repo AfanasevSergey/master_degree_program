{
 "cells": [
  {
   "cell_type": "markdown",
   "metadata": {},
   "source": [
    "# 1. Introduction"
   ]
  },
  {
   "cell_type": "markdown",
   "metadata": {},
   "source": [
    "We have the following data (examples are taken from the description on the coursera.forum):\n",
    "1.\tList of movies (their names);  \n",
    "Example: `movies = [\"Parasite\", \"1917\", \"Ford v Ferrari\", \"Jojo Rabbit\", \"Joker\"]`;  \n",
    "The number of films will be denoted as $N$.\n",
    "\n",
    "\n",
    "2.\tList of similarities between movies (pairs of movies that are similar);  \n",
    "Example: `similarities = [[\"Parasite\", \"1917\"], [\"Parasite\", \"Jojo Rabbit\"], [\"Joker\", \"Ford v Ferrari\"]]`;  \n",
    "The number of similar pairs of movies will be denoted as $E$ (the number of graph edges).  \n",
    "\n",
    "\n",
    "3.\tList of user's friends and for each friend a list of movies that he has already seen.  \n",
    "Example: `friends = [[\"Joker\"], [\"Joker\", \"1917\"], [\"Joker\"], [\"Parasite\"], [\"1917\"], [\"Jojo Rabbit\", \"Joker\"]]`;  \n",
    "The number of friends will be denoted as $M$.  \n",
    "\n",
    "\n",
    "We can imagine films and their similarity as a graph, in which films (movie names) are the vertices of the graph, and the similarity of films is the edges of the graph. Accordingly, a pair of similar films will be connected by an edge. Since the similarities of the films are considered equivalent by the problem statement, all nonzero edges of the graph have the same weight. The similarity of films can be considered a genre: action, horror, fantasy, drama, melodrama (not from my friends list), comedy, etc.\n",
    "\n",
    "By the condition of the problem, we have no requirements for the fully connected components of the graph, i.e. one film can be similar to different films that are no similar each other. Or, in other words, one film can belong to several genres (for example, action movie with elements of melodrama).\n",
    "\n",
    "Let's also assume that there are no duplicated films in the lists, there are no symmetrical pairs of similar films (i.e., each pair of similar films is counted 1 time up to symmetry), and there are no duplicated films in the friends list either.\n",
    "\n",
    "In order to recommend one film with the highest discussability and uniqueness, we will use the algorithm described below.\n"
   ]
  },
  {
   "cell_type": "markdown",
   "metadata": {},
   "source": [
    "# 2. Algorithm description"
   ]
  },
  {
   "cell_type": "markdown",
   "metadata": {},
   "source": [
    "### Dictionary  \n",
    "To store the results, let's create a dictionary with the following structure:  \n",
    "`The key is the name of the movie`;  \n",
    "`Value is a tuple with a set of similar films and the number of friends`.\n",
    "\n",
    "\n",
    "### Step 1  \n",
    "In the first step, the algorithm traverses the similarity list and builds an adjacency list for graph of films. The results are saved to the created dictionary.  \n",
    "Time complexity of this step: $O(E)$  \n",
    "Space complexity: $O(N+E)$\n",
    "\n",
    "We could consider another structure – the adjacency matrix of graph, which will have space complexity $O(N^2)$. But since the components of our graph are not fully connected, then we can assume that $E << N^2$, and then the adjacency list looks more preferable in terms of space complexity.\n",
    "\n",
    "### Step 2  \n",
    "In the second step, the algorithm traverses the movie graph and builds a list of connected components of graph.\n",
    "Each connected component contains a set of movies, each of which is similar to the others. To store the results, we will use a list of sets, in which each set is a connected component.  \n",
    "Time complexity of this step: $O(N+E)$  \n",
    "Space complexity: $O(N)$  \n",
    "\n",
    "\n",
    "### Step 3  \n",
    "At the third step, the algorithm traverses the list of friends and for each movie counts the number of friends who have watched this movie. We use our dictionary to store the results.  \n",
    "Maximum time complexity of this step (if each friend has watched all the movies): $O(M*N)$  \n",
    "Space complexity: $O(N)$\n",
    "\n",
    "\n",
    "### Step 4  \n",
    "At the fourth step, the algorithm traverses each connected component of the graph and executes the following operations:\n",
    "\n",
    "\n",
    "1)\tCalculates the number of friends who watched movies from this component.  \n",
    "Time complexity: $O(N)$ (if all movies fall into the same connected component).  \n",
    "\n",
    "\n",
    "2)\tCalculates the length of the component.\n",
    "Time complexity: $O(1)$;  \n",
    "\n",
    "\n",
    "3)\tFor each movie in the component, the following is calculated:\n",
    "- the number of friends who watched this movie;\n",
    "- the average number of friends who watched similar movies for the current movie;\n",
    "- the final score for the film.  \n",
    "\n",
    "The calculations check the following conditions:\n",
    "- If division by zero is present, the film is assigned a zero point.\n",
    "- If the current rating of a movie is greater than the maximum rating that was calculated for previous films, then the rating of the movie is updated to the maximum.\n",
    "The average time complexity is $O(1)$, since it is equal to the difference between the total number of friends and the number of friends for the evaluated movie divided by the length of the connected component of the graph minus one.\n",
    "\n",
    "\n",
    "After completing this step, the algorithm returns the movie with the highest score.\n",
    "Time complexity of the step: $O(N)$ (since we are watching all the movies).\n",
    "Space complexity: $O(1)$.\n",
    "\n"
   ]
  },
  {
   "cell_type": "markdown",
   "metadata": {},
   "source": [
    "## Time complexity\n",
    "\n",
    "Step 1: O(E);  \n",
    "Step 2: O(N+E);  \n",
    "Step 3: O(M*N);  \n",
    "Step 4: O(N);  \n",
    "\n",
    "\n",
    "Thus, the final time complexity of the algorithm is $O(M*N + E)$.\n",
    "\n"
   ]
  },
  {
   "cell_type": "markdown",
   "metadata": {},
   "source": [
    "## Space complexity\n",
    "\n",
    "Step 1: O(N+E);  \n",
    "Step 2: O(N);  \n",
    "Step 3: O(N);  \n",
    "Step 4: O(1);  \n",
    "\n",
    "Thus, the final spatial complexity of the algorithm is $O(N+E)$.\n"
   ]
  },
  {
   "cell_type": "markdown",
   "metadata": {},
   "source": [
    "# 3. Program Code"
   ]
  },
  {
   "cell_type": "code",
   "execution_count": 1,
   "metadata": {},
   "outputs": [],
   "source": [
    "from copy import deepcopy\n",
    "\n",
    "#************************** DFS Algorithm *******************************\n",
    "\"\"\"\n",
    "The function builds connected component of graph using DFS algorithm.\n",
    "The function returns connected component of graph.\n",
    "\"\"\"\n",
    "\n",
    "def dfs_movies(movie, visited, connected_component, movie_info, start_info):\n",
    "    visited.add(movie)\n",
    "    connected_component.add(movie)\n",
    "    \n",
    "    for similar_movie in movie_info.get(movie, start_info)['similar_movies']:\n",
    "        if similar_movie not in visited:\n",
    "            dfs_movies(similar_movie, visited, connected_component, movie_info, start_info)\n",
    "    \n",
    "    return connected_component\n",
    "\n",
    "\n",
    "#******************* Film Recommendation Algorithm **********************\n",
    "\n",
    "\"\"\"\n",
    "The function recommends to user the most relevant movie.\n",
    "\n",
    "The function arguments:\n",
    "1) 'movies' is a list of all movies;\n",
    "2) 'similarities' is a list of pairs of similar movies;\n",
    "3) 'friends' is a list of movies, that the user's friends have already seen.\n",
    "\n",
    "The function returns the the recommended movie for user and maximum score of the movie.\n",
    "\"\"\"\n",
    "\n",
    "def Movie_Recommender(movies, similarities, friends):\n",
    "\n",
    "    highest_relevant = ''\n",
    "    max_score = -1\n",
    "\n",
    "    start_info = {'views': 0, 'similar_movies': set()}\n",
    "    movie_info = {}\n",
    "    \n",
    "    visited = set()\n",
    "    similar_sets = []\n",
    "    \n",
    "    # Step 1    \n",
    "    for movie1, movie2 in similarities:\n",
    "        movie_info.setdefault(movie1, deepcopy(start_info))['similar_movies'].add(movie2)\n",
    "        movie_info.setdefault(movie2, deepcopy(start_info))['similar_movies'].add(movie1)\n",
    "\n",
    "    # Step 2\n",
    "    for movie in movies:\n",
    "        if movie not in visited:\n",
    "            connected_component = set()\n",
    "            similar_sets.append(dfs_movies(movie, visited, connected_component, movie_info, start_info))\n",
    "            \n",
    "    # Step 3            \n",
    "    for views in friends:\n",
    "        for movie in views:\n",
    "            movie_info.setdefault(movie, deepcopy(start_info))['views'] += 1\n",
    "\n",
    "    # Step 4\n",
    "    for similar_movies in similar_sets:\n",
    "        k = len(similar_movies)\n",
    "        all_views = sum(map(lambda i: movie_info.get(i, start_info)['views'], similar_movies))\n",
    "        for movie in similar_movies:\n",
    "            score = 0\n",
    "            views = movie_info.get(movie, start_info)['views']\n",
    "            similar_views = all_views - views\n",
    "            if similar_views:\n",
    "                score = views * (k - 1) / similar_views\n",
    "            if score > max_score:\n",
    "                highest_relevant = movie\n",
    "                max_score = score\n",
    "\n",
    "    return highest_relevant, max_score\n"
   ]
  },
  {
   "cell_type": "markdown",
   "metadata": {},
   "source": [
    "# 4. Tests"
   ]
  },
  {
   "cell_type": "code",
   "execution_count": 2,
   "metadata": {},
   "outputs": [
    {
     "name": "stdout",
     "output_type": "stream",
     "text": [
      "The recommended movie:\t 1917\n",
      "Max score of the movie:\t 2.0\n"
     ]
    }
   ],
   "source": [
    "if __name__ == '__main__':\n",
    "    \n",
    "    movies = [\"1917\", \"Joker\", \"Parasite\", \"Ford v Ferrari\", \"Jojo Rabbit\"]\n",
    "    similarities = [[\"Parasite\", \"1917\"],\n",
    "                    [\"Parasite\", \"Jojo Rabbit\"],\n",
    "                    [\"Joker\", \"Ford v Ferrari\"]]\n",
    "    friends = [['Joker'], ['Joker', '1917'],\n",
    "               ['Joker'], ['Parasite'],\n",
    "               ['1917'], ['Jojo Rabbit', 'Joker']]\n",
    "\n",
    "    recom_movie = Movie_Recommender(movies, similarities, friends)\n",
    "    print(\"The recommended movie:\\t\", recom_movie[0])\n",
    "    print(\"Max score of the movie:\\t\", recom_movie[1])"
   ]
  },
  {
   "cell_type": "code",
   "execution_count": 3,
   "metadata": {},
   "outputs": [
    {
     "name": "stdout",
     "output_type": "stream",
     "text": [
      "The recommended movie:\t 1917\n",
      "Max score of the movie:\t 2.0\n",
      "Seconds for 100000 times: 16.77\n"
     ]
    }
   ],
   "source": [
    "if __name__ == \"__main__\":\n",
    "    import random\n",
    "    import string\n",
    "    import time\n",
    "    \n",
    "    movies = [\"Parasite\", \"1917\", \"Ford v Ferrari\", \"Jojo Rabbit\", \"Joker\"]\n",
    "    t = 100000\n",
    "    \n",
    "    for _ in range(t):\n",
    "        movie = \"\".join(random.choice(string.ascii_letters) for j in range(random.randint(1, 10))\n",
    "                    for i in range(random.randint(1, 10)))\n",
    "        movies.append(movie)\n",
    "    \n",
    "    similarities = [[\"Parasite\", \"1917\"],\n",
    "                    [\"Parasite\", \"Jojo Rabbit\"],\n",
    "                    [\"Joker\", \"Ford v Ferrari\"]]\n",
    "    friends = [['Joker'], ['Joker', '1917'],\n",
    "               ['Joker'], ['Parasite'],\n",
    "               ['1917'], ['Jojo Rabbit', 'Joker']] * t\n",
    "\n",
    "    start = time.time()\n",
    "    recom_movie = Movie_Recommender(movies, similarities, friends)\n",
    "    finish = time.time()\n",
    "    print(\"The recommended movie:\\t\", recom_movie[0])\n",
    "    print(\"Max score of the movie:\\t\", recom_movie[1])\n",
    "    print(f\"Seconds for {t} times:\", round(finish - start, 2))\n"
   ]
  }
 ],
 "metadata": {
  "kernelspec": {
   "display_name": "Python 3",
   "language": "python",
   "name": "python3"
  },
  "language_info": {
   "codemirror_mode": {
    "name": "ipython",
    "version": 3
   },
   "file_extension": ".py",
   "mimetype": "text/x-python",
   "name": "python",
   "nbconvert_exporter": "python",
   "pygments_lexer": "ipython3",
   "version": "3.8.3"
  }
 },
 "nbformat": 4,
 "nbformat_minor": 4
}
