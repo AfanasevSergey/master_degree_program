{
 "cells": [
  {
   "cell_type": "markdown",
   "metadata": {},
   "source": [
    "# Table of Contents:\n",
    "\n",
    "* [DESCRIPTION](#review)\n",
    "\n",
    "* [PART 1](#part1): Task formalization and Evaluation criteria\n",
    "     - [Task 1.1](#task11): Target variable selection\n",
    "     - [Task 1.2](#task12): Selection of ML task type \n",
    "     - [Task 1.3](#task13): Selection of metric\n",
    "   \n",
    "* [PART 2](#part2): Explore and preprocess the data\n",
    "     - [Task 2.1](#task21): Splitting data\n",
    "     - [Task 2.2](#task22): Exploratory Data Analysis (EDA)  \n",
    "\n",
    "* [PART 3](#part3): Train and compare the models\n",
    "     - [Task 3.1](#task31): Selection of models and hyperparameters\n",
    "     - [Task 3.2](#task32): Tuning hyperparameters by Cross-Validation\n",
    "     - [Task 3.3](#task33): Results       \n",
    "\n",
    "* [CONCLUSIONS](#conc)\n"
   ]
  },
  {
   "cell_type": "markdown",
   "metadata": {},
   "source": [
    "---\n",
    "\n",
    "# Description of the final project <a class=\"anchor\" id=\"review\"></a>"
   ]
  },
  {
   "cell_type": "markdown",
   "metadata": {},
   "source": [
    "### Introduction\n",
    "In this project, you will be asked to help a film-producing company. They would like to make sure that films, which they are creating are successful. The company has collected a large dataset, which includes information about more than 80'000 films: their description, genre, budget, rating, etc.\n",
    "\n",
    "Your task will be to suggest and justify a way to measure the success of the film and build a machine learning model, which is capable of predicting this quantity."
   ]
  },
  {
   "cell_type": "markdown",
   "metadata": {},
   "source": [
    "### Detailed Task Description\n",
    "\n",
    "The solution should have the following parts:\n",
    "\n",
    "#### [20 %] Formalise the task and suggest the evaluation criterion\n",
    "* What is your target variable? Why is it a good measure of success and how the film-producing company can use it to make their decision?\n",
    "* Which task are you going to solve (is it a regression, classification or something else)?\n",
    "* Which metric will you use to evaluate the performance of the model? Do you have any idea, which values of the metrics can be considered good enough? \n",
    "\n",
    "\n",
    "#### [40 %] Explore and preprocess the data \n",
    "* Split data into train and test\n",
    "* Fill missing values (if there are any)\n",
    "* Remove irrelevant feature (if there are any) and create new ones (explore which features you have, what is their distribution and connection to the target, explain why newly created features are reasonable)\n",
    "* Properly encode categorical features (if required)\n",
    "\n",
    "\n",
    "#### [40 %] Train the models and present result of your work\n",
    "* Use the models introduced during the course, which are relevant for the task you are solving\n",
    "* You are supposed to compare at least 3 models\n",
    "* Tune (or explain why there is no need to tune) hyperparameters of each model\n",
    "* Use cross-validation to compare models and select hyperparameters\n",
    "* Which model and setup is the best? How does it perform on the test dataset? \n",
    "\n",
    "\n",
    "\n",
    "#### General Requirements\n",
    "* You should provide a solution in the form of the Jupyter Notebook (use the template that we provide)\n",
    "* Make sure that the instructor can run all the cells to reproduce your results\n",
    "* Clearly answer each question / perform required actions from the task\n",
    "* Support all your statements with calculations and plots. \n",
    "\n",
    "For example: If you claim that the dataset does not have missing values, you need to provide code which shows that the total number of missing values is zero.\n",
    "\n"
   ]
  },
  {
   "cell_type": "code",
   "execution_count": 1,
   "metadata": {},
   "outputs": [],
   "source": [
    "import numpy as np\n",
    "import pandas as pd\n",
    "import matplotlib.pyplot as plt\n",
    "\n",
    "%matplotlib inline"
   ]
  },
  {
   "cell_type": "markdown",
   "metadata": {},
   "source": [
    "This is a template for your final project. "
   ]
  },
  {
   "cell_type": "code",
   "execution_count": 2,
   "metadata": {},
   "outputs": [
    {
     "data": {
      "text/html": [
       "<div>\n",
       "<style scoped>\n",
       "    .dataframe tbody tr th:only-of-type {\n",
       "        vertical-align: middle;\n",
       "    }\n",
       "\n",
       "    .dataframe tbody tr th {\n",
       "        vertical-align: top;\n",
       "    }\n",
       "\n",
       "    .dataframe thead th {\n",
       "        text-align: right;\n",
       "    }\n",
       "</style>\n",
       "<table border=\"1\" class=\"dataframe\">\n",
       "  <thead>\n",
       "    <tr style=\"text-align: right;\">\n",
       "      <th></th>\n",
       "      <th>imdb_title_id</th>\n",
       "      <th>title</th>\n",
       "      <th>original_title</th>\n",
       "      <th>year</th>\n",
       "      <th>date_published</th>\n",
       "      <th>genre</th>\n",
       "      <th>duration</th>\n",
       "      <th>country</th>\n",
       "      <th>language</th>\n",
       "      <th>director</th>\n",
       "      <th>...</th>\n",
       "      <th>actors</th>\n",
       "      <th>description</th>\n",
       "      <th>avg_vote</th>\n",
       "      <th>votes</th>\n",
       "      <th>budget</th>\n",
       "      <th>usa_gross_income</th>\n",
       "      <th>worlwide_gross_income</th>\n",
       "      <th>metascore</th>\n",
       "      <th>reviews_from_users</th>\n",
       "      <th>reviews_from_critics</th>\n",
       "    </tr>\n",
       "  </thead>\n",
       "  <tbody>\n",
       "    <tr>\n",
       "      <th>0</th>\n",
       "      <td>tt0000574</td>\n",
       "      <td>The Story of the Kelly Gang</td>\n",
       "      <td>The Story of the Kelly Gang</td>\n",
       "      <td>1906</td>\n",
       "      <td>1906-12-26</td>\n",
       "      <td>Biography, Crime, Drama</td>\n",
       "      <td>70</td>\n",
       "      <td>Australia</td>\n",
       "      <td>NaN</td>\n",
       "      <td>Charles Tait</td>\n",
       "      <td>...</td>\n",
       "      <td>Elizabeth Tait, John Tait, Norman Campbell, Be...</td>\n",
       "      <td>True story of notorious Australian outlaw Ned ...</td>\n",
       "      <td>6.1</td>\n",
       "      <td>537</td>\n",
       "      <td>$ 2250</td>\n",
       "      <td>NaN</td>\n",
       "      <td>NaN</td>\n",
       "      <td>NaN</td>\n",
       "      <td>7.0</td>\n",
       "      <td>7.0</td>\n",
       "    </tr>\n",
       "    <tr>\n",
       "      <th>1</th>\n",
       "      <td>tt0001892</td>\n",
       "      <td>Den sorte drøm</td>\n",
       "      <td>Den sorte drøm</td>\n",
       "      <td>1911</td>\n",
       "      <td>1911-08-19</td>\n",
       "      <td>Drama</td>\n",
       "      <td>53</td>\n",
       "      <td>Germany, Denmark</td>\n",
       "      <td>NaN</td>\n",
       "      <td>Urban Gad</td>\n",
       "      <td>...</td>\n",
       "      <td>Asta Nielsen, Valdemar Psilander, Gunnar Helse...</td>\n",
       "      <td>Two men of high rank are both wooing the beaut...</td>\n",
       "      <td>5.9</td>\n",
       "      <td>171</td>\n",
       "      <td>NaN</td>\n",
       "      <td>NaN</td>\n",
       "      <td>NaN</td>\n",
       "      <td>NaN</td>\n",
       "      <td>4.0</td>\n",
       "      <td>2.0</td>\n",
       "    </tr>\n",
       "    <tr>\n",
       "      <th>2</th>\n",
       "      <td>tt0002101</td>\n",
       "      <td>Cleopatra</td>\n",
       "      <td>Cleopatra</td>\n",
       "      <td>1912</td>\n",
       "      <td>1912-11-13</td>\n",
       "      <td>Drama, History</td>\n",
       "      <td>100</td>\n",
       "      <td>USA</td>\n",
       "      <td>English</td>\n",
       "      <td>Charles L. Gaskill</td>\n",
       "      <td>...</td>\n",
       "      <td>Helen Gardner, Pearl Sindelar, Miss Fielding, ...</td>\n",
       "      <td>The fabled queen of Egypt's affair with Roman ...</td>\n",
       "      <td>5.2</td>\n",
       "      <td>420</td>\n",
       "      <td>$ 45000</td>\n",
       "      <td>NaN</td>\n",
       "      <td>NaN</td>\n",
       "      <td>NaN</td>\n",
       "      <td>24.0</td>\n",
       "      <td>3.0</td>\n",
       "    </tr>\n",
       "  </tbody>\n",
       "</table>\n",
       "<p>3 rows × 22 columns</p>\n",
       "</div>"
      ],
      "text/plain": [
       "  imdb_title_id                        title               original_title  \\\n",
       "0     tt0000574  The Story of the Kelly Gang  The Story of the Kelly Gang   \n",
       "1     tt0001892               Den sorte drøm               Den sorte drøm   \n",
       "2     tt0002101                    Cleopatra                    Cleopatra   \n",
       "\n",
       "   year date_published                    genre  duration           country  \\\n",
       "0  1906     1906-12-26  Biography, Crime, Drama        70         Australia   \n",
       "1  1911     1911-08-19                    Drama        53  Germany, Denmark   \n",
       "2  1912     1912-11-13           Drama, History       100               USA   \n",
       "\n",
       "  language            director  ...  \\\n",
       "0      NaN        Charles Tait  ...   \n",
       "1      NaN           Urban Gad  ...   \n",
       "2  English  Charles L. Gaskill  ...   \n",
       "\n",
       "                                              actors  \\\n",
       "0  Elizabeth Tait, John Tait, Norman Campbell, Be...   \n",
       "1  Asta Nielsen, Valdemar Psilander, Gunnar Helse...   \n",
       "2  Helen Gardner, Pearl Sindelar, Miss Fielding, ...   \n",
       "\n",
       "                                         description avg_vote votes   budget  \\\n",
       "0  True story of notorious Australian outlaw Ned ...      6.1   537   $ 2250   \n",
       "1  Two men of high rank are both wooing the beaut...      5.9   171      NaN   \n",
       "2  The fabled queen of Egypt's affair with Roman ...      5.2   420  $ 45000   \n",
       "\n",
       "   usa_gross_income worlwide_gross_income metascore reviews_from_users  \\\n",
       "0               NaN                   NaN       NaN                7.0   \n",
       "1               NaN                   NaN       NaN                4.0   \n",
       "2               NaN                   NaN       NaN               24.0   \n",
       "\n",
       "   reviews_from_critics  \n",
       "0                   7.0  \n",
       "1                   2.0  \n",
       "2                   3.0  \n",
       "\n",
       "[3 rows x 22 columns]"
      ]
     },
     "execution_count": 2,
     "metadata": {},
     "output_type": "execute_result"
    }
   ],
   "source": [
    "full_dataset = pd.read_csv('IMDb movies.csv')\n",
    "full_dataset.head(3)"
   ]
  },
  {
   "cell_type": "markdown",
   "metadata": {},
   "source": [
    "---\n",
    "\n",
    "\n",
    "\n",
    "# PART 1. Task formalization and Evaluation criteria <a class=\"anchor\" id=\"part1\"></a>"
   ]
  },
  {
   "cell_type": "markdown",
   "metadata": {},
   "source": [
    "### Task 1.1: Target variable selection <a class=\"anchor\" id=\"task11\"></a>\n",
    "Select your target variable, explain your choice. Separate target variable from the feature matrix."
   ]
  },
  {
   "cell_type": "markdown",
   "metadata": {},
   "source": [
    "1.1.1. Let's see what fields are contained in our table and how they are filled:"
   ]
  },
  {
   "cell_type": "code",
   "execution_count": 3,
   "metadata": {},
   "outputs": [
    {
     "name": "stdout",
     "output_type": "stream",
     "text": [
      "<class 'pandas.core.frame.DataFrame'>\n",
      "RangeIndex: 60198 entries, 0 to 60197\n",
      "Data columns (total 22 columns):\n",
      " #   Column                 Non-Null Count  Dtype  \n",
      "---  ------                 --------------  -----  \n",
      " 0   imdb_title_id          60198 non-null  object \n",
      " 1   title                  60198 non-null  object \n",
      " 2   original_title         60198 non-null  object \n",
      " 3   year                   60198 non-null  int64  \n",
      " 4   date_published         60198 non-null  object \n",
      " 5   genre                  60198 non-null  object \n",
      " 6   duration               60198 non-null  int64  \n",
      " 7   country                60193 non-null  object \n",
      " 8   language               59759 non-null  object \n",
      " 9   director               60174 non-null  object \n",
      " 10  writer                 59390 non-null  object \n",
      " 11  production_company     57454 non-null  object \n",
      " 12  actors                 60168 non-null  object \n",
      " 13  description            58205 non-null  object \n",
      " 14  avg_vote               60198 non-null  float64\n",
      " 15  votes                  60198 non-null  int64  \n",
      " 16  budget                 16819 non-null  object \n",
      " 17  usa_gross_income       11892 non-null  object \n",
      " 18  worlwide_gross_income  19136 non-null  object \n",
      " 19  metascore              8812 non-null   float64\n",
      " 20  reviews_from_users     56129 non-null  float64\n",
      " 21  reviews_from_critics   51969 non-null  float64\n",
      "dtypes: float64(4), int64(3), object(15)\n",
      "memory usage: 10.1+ MB\n"
     ]
    }
   ],
   "source": [
    "full_dataset.info()"
   ]
  },
  {
   "cell_type": "code",
   "execution_count": 4,
   "metadata": {},
   "outputs": [
    {
     "data": {
      "text/html": [
       "<div>\n",
       "<style scoped>\n",
       "    .dataframe tbody tr th:only-of-type {\n",
       "        vertical-align: middle;\n",
       "    }\n",
       "\n",
       "    .dataframe tbody tr th {\n",
       "        vertical-align: top;\n",
       "    }\n",
       "\n",
       "    .dataframe thead th {\n",
       "        text-align: right;\n",
       "    }\n",
       "</style>\n",
       "<table border=\"1\" class=\"dataframe\">\n",
       "  <thead>\n",
       "    <tr style=\"text-align: right;\">\n",
       "      <th></th>\n",
       "      <th>avg_vote</th>\n",
       "      <th>votes</th>\n",
       "      <th>budget</th>\n",
       "      <th>usa_gross_income</th>\n",
       "      <th>worlwide_gross_income</th>\n",
       "      <th>metascore</th>\n",
       "    </tr>\n",
       "  </thead>\n",
       "  <tbody>\n",
       "    <tr>\n",
       "      <th>count</th>\n",
       "      <td>60198.000000</td>\n",
       "      <td>6.019800e+04</td>\n",
       "      <td>16819</td>\n",
       "      <td>11892</td>\n",
       "      <td>19136</td>\n",
       "      <td>8812.000000</td>\n",
       "    </tr>\n",
       "    <tr>\n",
       "      <th>unique</th>\n",
       "      <td>NaN</td>\n",
       "      <td>NaN</td>\n",
       "      <td>3503</td>\n",
       "      <td>11529</td>\n",
       "      <td>18920</td>\n",
       "      <td>NaN</td>\n",
       "    </tr>\n",
       "    <tr>\n",
       "      <th>top</th>\n",
       "      <td>NaN</td>\n",
       "      <td>NaN</td>\n",
       "      <td>$ 1000000</td>\n",
       "      <td>$ 1000000</td>\n",
       "      <td>$ 8144</td>\n",
       "      <td>NaN</td>\n",
       "    </tr>\n",
       "    <tr>\n",
       "      <th>freq</th>\n",
       "      <td>NaN</td>\n",
       "      <td>NaN</td>\n",
       "      <td>512</td>\n",
       "      <td>19</td>\n",
       "      <td>16</td>\n",
       "      <td>NaN</td>\n",
       "    </tr>\n",
       "    <tr>\n",
       "      <th>mean</th>\n",
       "      <td>5.997349</td>\n",
       "      <td>1.049150e+04</td>\n",
       "      <td>NaN</td>\n",
       "      <td>NaN</td>\n",
       "      <td>NaN</td>\n",
       "      <td>55.532229</td>\n",
       "    </tr>\n",
       "    <tr>\n",
       "      <th>std</th>\n",
       "      <td>1.199483</td>\n",
       "      <td>5.686771e+04</td>\n",
       "      <td>NaN</td>\n",
       "      <td>NaN</td>\n",
       "      <td>NaN</td>\n",
       "      <td>17.885123</td>\n",
       "    </tr>\n",
       "    <tr>\n",
       "      <th>min</th>\n",
       "      <td>1.000000</td>\n",
       "      <td>1.000000e+02</td>\n",
       "      <td>NaN</td>\n",
       "      <td>NaN</td>\n",
       "      <td>NaN</td>\n",
       "      <td>1.000000</td>\n",
       "    </tr>\n",
       "    <tr>\n",
       "      <th>25%</th>\n",
       "      <td>5.400000</td>\n",
       "      <td>2.060000e+02</td>\n",
       "      <td>NaN</td>\n",
       "      <td>NaN</td>\n",
       "      <td>NaN</td>\n",
       "      <td>43.000000</td>\n",
       "    </tr>\n",
       "    <tr>\n",
       "      <th>50%</th>\n",
       "      <td>6.200000</td>\n",
       "      <td>5.030000e+02</td>\n",
       "      <td>NaN</td>\n",
       "      <td>NaN</td>\n",
       "      <td>NaN</td>\n",
       "      <td>56.000000</td>\n",
       "    </tr>\n",
       "    <tr>\n",
       "      <th>75%</th>\n",
       "      <td>6.800000</td>\n",
       "      <td>2.000000e+03</td>\n",
       "      <td>NaN</td>\n",
       "      <td>NaN</td>\n",
       "      <td>NaN</td>\n",
       "      <td>68.000000</td>\n",
       "    </tr>\n",
       "    <tr>\n",
       "      <th>max</th>\n",
       "      <td>10.000000</td>\n",
       "      <td>2.159628e+06</td>\n",
       "      <td>NaN</td>\n",
       "      <td>NaN</td>\n",
       "      <td>NaN</td>\n",
       "      <td>100.000000</td>\n",
       "    </tr>\n",
       "    <tr>\n",
       "      <th>num_nulls</th>\n",
       "      <td>0.000000</td>\n",
       "      <td>0.000000e+00</td>\n",
       "      <td>43379</td>\n",
       "      <td>48306</td>\n",
       "      <td>41062</td>\n",
       "      <td>51386.000000</td>\n",
       "    </tr>\n",
       "    <tr>\n",
       "      <th>nulls_ratio</th>\n",
       "      <td>0.000000</td>\n",
       "      <td>0.000000e+00</td>\n",
       "      <td>0.720605</td>\n",
       "      <td>0.802452</td>\n",
       "      <td>0.682116</td>\n",
       "      <td>0.853616</td>\n",
       "    </tr>\n",
       "  </tbody>\n",
       "</table>\n",
       "</div>"
      ],
      "text/plain": [
       "                 avg_vote         votes     budget usa_gross_income  \\\n",
       "count        60198.000000  6.019800e+04      16819            11892   \n",
       "unique                NaN           NaN       3503            11529   \n",
       "top                   NaN           NaN  $ 1000000        $ 1000000   \n",
       "freq                  NaN           NaN        512               19   \n",
       "mean             5.997349  1.049150e+04        NaN              NaN   \n",
       "std              1.199483  5.686771e+04        NaN              NaN   \n",
       "min              1.000000  1.000000e+02        NaN              NaN   \n",
       "25%              5.400000  2.060000e+02        NaN              NaN   \n",
       "50%              6.200000  5.030000e+02        NaN              NaN   \n",
       "75%              6.800000  2.000000e+03        NaN              NaN   \n",
       "max             10.000000  2.159628e+06        NaN              NaN   \n",
       "num_nulls        0.000000  0.000000e+00      43379            48306   \n",
       "nulls_ratio      0.000000  0.000000e+00   0.720605         0.802452   \n",
       "\n",
       "            worlwide_gross_income     metascore  \n",
       "count                       19136   8812.000000  \n",
       "unique                      18920           NaN  \n",
       "top                        $ 8144           NaN  \n",
       "freq                           16           NaN  \n",
       "mean                          NaN     55.532229  \n",
       "std                           NaN     17.885123  \n",
       "min                           NaN      1.000000  \n",
       "25%                           NaN     43.000000  \n",
       "50%                           NaN     56.000000  \n",
       "75%                           NaN     68.000000  \n",
       "max                           NaN    100.000000  \n",
       "num_nulls                   41062  51386.000000  \n",
       "nulls_ratio              0.682116      0.853616  "
      ]
     },
     "execution_count": 4,
     "metadata": {},
     "output_type": "execute_result"
    }
   ],
   "source": [
    "columns = ['avg_vote', 'votes', 'budget', 'usa_gross_income', 'worlwide_gross_income', 'metascore']\n",
    "\n",
    "describe_info = full_dataset[columns].describe(include='all')\n",
    "describe_info.loc['num_nulls'] = full_dataset.shape[0] - describe_info.loc['count']\n",
    "describe_info.loc['nulls_ratio'] = describe_info.loc['num_nulls'] / full_dataset.shape[0]\n",
    "describe_info"
   ]
  },
  {
   "cell_type": "markdown",
   "metadata": {},
   "source": [
    "1.1.2. We see several variables that can be used to assess the success of the movie (description taken from Kaggle):\n",
    "* **`avg_vote`** - average film rating calculated by viewers' votes;\n",
    "* **`worlwide_gross_income`** - world box office receipts of the film (to calculate the profit, it is necessary to take into account the budget of the film for production and marketing);\n",
    "* **`metascore`** - average film rating, calculated by  movie critics' votes.\n"
   ]
  },
  {
   "cell_type": "markdown",
   "metadata": {},
   "source": [
    "1.1.3. We will choose **`avg_vote`** to form the target variable for several reasons:\n",
    "\n",
    "1. **`avg_vote`** shows whether users liked the movie or not;\n",
    "2. **`worlwide_gross_income`** does not include the cost of film production and marketing. Also, the box office may reflect the popularity of a particular franchise or the star cast of a film, rather than the success of the film itself. Because of this, the model for predicting the success of a film may be more likely to be mistaken, for example, in favor of low-rated films with “past box office success”, which can negatively affect the prediction results.\n",
    "3. **`metascore`** shows the opinion of professional film critics only, which can be very different from the tastes of most viewers, which generate the main income for film campaigns.\n",
    "4. We also see that **`worlwide_gross_income`** and **`metascore`** have a large percentage of nulls (68% and 85%, respectively), which can cause the results to be highly biased due to the non-representativeness of the sample for development model and general population.\n",
    "5. **`avg_vote`** does not have nulls;\n"
   ]
  },
  {
   "cell_type": "markdown",
   "metadata": {},
   "source": [
    "1.1.4 Since we need to determine whether the movie will succeed or not, let's convert our numeric **`avg_vote`** field to a binary variable.\n",
    "\n",
    "For this let's use some heuristic based on the Pareto principle (20:80): we will assume that the top 20% of films are successful (bring in most of the profit), and the remaining 80% will be unsuccessful.\n",
    "\n",
    "Let's calculate the rating threshold for the 80-percentile:"
   ]
  },
  {
   "cell_type": "code",
   "execution_count": 5,
   "metadata": {},
   "outputs": [
    {
     "name": "stdout",
     "output_type": "stream",
     "text": [
      "avg_vote cutoff for 80-percentile: 7.0\n"
     ]
    }
   ],
   "source": [
    "cutoff = np.percentile(full_dataset.avg_vote, 80)\n",
    "print(f'avg_vote cutoff for 80-percentile: {cutoff}')"
   ]
  },
  {
   "cell_type": "markdown",
   "metadata": {},
   "source": [
    "**Note:** We got an interesting result: usually films with a rating above 7 are considered good on the IMDB. But maybe this is just a coincidence."
   ]
  },
  {
   "cell_type": "markdown",
   "metadata": {},
   "source": [
    "1.1.5. So now we can define the target variable:  \n",
    "- **1** - if `avg_vote` >= 7 (successful film)  \n",
    "- **0** - if `avg_vote` < 7 (unsuccessful film)"
   ]
  },
  {
   "cell_type": "markdown",
   "metadata": {},
   "source": [
    "1.1.6. Let's create a matrix of features and a vector for the target variable:"
   ]
  },
  {
   "cell_type": "code",
   "execution_count": 6,
   "metadata": {},
   "outputs": [],
   "source": [
    "X = full_dataset.drop(\"avg_vote\", axis=1)\n",
    "y = full_dataset.avg_vote.map(lambda x: 1 if x >= 7 else 0)"
   ]
  },
  {
   "cell_type": "markdown",
   "metadata": {},
   "source": [
    "### Task 1.2: Selection of ML task type <a class=\"anchor\" id=\"task12\"></a>\n",
    "Explain which task are you going to solve (is it a regression, classification or something else)?"
   ]
  },
  {
   "cell_type": "markdown",
   "metadata": {},
   "source": [
    "1.2.1. Since we have created a binary target variable, we will be solving a binary classification problem.\n",
    "\n",
    "For the binary classification problem, we will use three types of models:\n",
    "* **`Logistic Regression`**\n",
    "* **`Decision Tree Classifier`**\n",
    "* **`Gradient Boosting Classifier`**"
   ]
  },
  {
   "cell_type": "markdown",
   "metadata": {},
   "source": [
    "### Task 1.3: Selection of metric <a class=\"anchor\" id=\"task13\"></a>\n",
    "Select a metric. Is it already implemented in sklearn? If yes, import it. If not, it is time to write a function which will calculate it. "
   ]
  },
  {
   "cell_type": "markdown",
   "metadata": {},
   "source": [
    "1.3.1. We have imbalanced data: there are 4 times less successful films than unsuccessful ones).  \n",
    "For such a task, it is good to use metrics based on `Precision` and `Recall` metrics.  \n",
    "Therefore, we will take the following metrics:\n",
    "1. **`Precision`** is a threshold metric that shows what proportion of films predicted by the model as successful actually turned out to be successful.\n",
    "2. **`Recall`** is a threshold metric that shows what proportion of all successful films the model correctly predicted.\n",
    "3. **`F1 score`** is the harmonic mean of the `Precision` and `Recall`.\n",
    "4. **`AUC PR`** (aka `Average Precision`) - an integral metric that estimates the area under the PR curve.\n"
   ]
  },
  {
   "cell_type": "code",
   "execution_count": 7,
   "metadata": {},
   "outputs": [],
   "source": [
    "from sklearn.metrics import precision_score\n",
    "from sklearn.metrics import recall_score\n",
    "from sklearn.metrics import f1_score\n",
    "from sklearn.metrics import average_precision_score"
   ]
  },
  {
   "cell_type": "markdown",
   "metadata": {},
   "source": [
    "\n",
    "**Note.** For the threshold metric (`Precision`, `Recall`, and `F1 score`), the threshold is equal 0.5 by default, which may not be the optimal value. Therefore, we separately calculate the integral metric `AUC PR`, which does not depend on the threshold."
   ]
  },
  {
   "cell_type": "markdown",
   "metadata": {},
   "source": [
    "1.3.2. Other popular metrics for classification, such as `Accuracy` and `AUC ROC`, may show overestimated values on imbalanced data (so they are not suitable for our task). This has been experimentally shown in the paper:  \n",
    "*Takaya Saito and Marc Rehmsmeier. 2015. The Precision-Recall Plot Is More Informative than the ROC Plot When Evaluating Binary Classifiers on Imbalanced Datasets. PLoS ONE 10(3) (2015). https://doi.org/10.1371/journal.pone.0118432*"
   ]
  },
  {
   "cell_type": "markdown",
   "metadata": {},
   "source": [
    "---\n",
    "\n",
    "\n",
    "\n",
    "# PART 2. Explore and preprocess the data <a class=\"anchor\" id=\"part3\"></a>"
   ]
  },
  {
   "cell_type": "markdown",
   "metadata": {},
   "source": [
    "### Task 2.1: Splitting data<a class=\"anchor\" id=\"task21\"></a>\n"
   ]
  },
  {
   "cell_type": "markdown",
   "metadata": {},
   "source": [
    "Since our dataset contains 60198 observations and will contain several dozen features after transformations, we need enough data for training sample. Taking into account Frank Harrell's rule (the minimum number of observations of a minority class per one feature), it seems optimal for the test sample to select no more than 15% of observations so that more data gets into the training sample."
   ]
  },
  {
   "cell_type": "markdown",
   "metadata": {},
   "source": [
    "2.1.1. Let's split data into train and test "
   ]
  },
  {
   "cell_type": "code",
   "execution_count": 8,
   "metadata": {},
   "outputs": [],
   "source": [
    "from sklearn.model_selection import train_test_split"
   ]
  },
  {
   "cell_type": "code",
   "execution_count": 9,
   "metadata": {},
   "outputs": [],
   "source": [
    "X_train, X_test, y_train, y_test = train_test_split(X, y, test_size=0.15, random_state=42, stratify=y)"
   ]
  },
  {
   "cell_type": "code",
   "execution_count": 10,
   "metadata": {},
   "outputs": [
    {
     "name": "stdout",
     "output_type": "stream",
     "text": [
      "=================================================================================\n",
      "\t\t\tObservations\tSuccessful\tUnsuccessful\tColumns\n",
      "---------------------------------------------------------------------------------\n",
      "Train sample\t\t51168\t\t10678\t\t40490\t\t21\n",
      "Test sample\t\t9030\t\t1885\t\t7145\t\t21\n",
      "=================================================================================\n"
     ]
    }
   ],
   "source": [
    "tr_o = X_train.shape[0]\n",
    "tr_s = y_train.value_counts()[1]\n",
    "tr_u = y_train.value_counts()[0]\n",
    "tr_c = X_train.shape[1]\n",
    "\n",
    "t_o = X_test.shape[0]\n",
    "t_s = y_test.value_counts()[1]\n",
    "t_u = y_test.value_counts()[0]\n",
    "t_c = X_test.shape[1]\n",
    "\n",
    "print('=================================================================================')\n",
    "print('\\t\\t\\tObservations\\tSuccessful\\tUnsuccessful\\tColumns')\n",
    "print('---------------------------------------------------------------------------------')\n",
    "print(f'Train sample\\t\\t{tr_o}\\t\\t{tr_s}\\t\\t{tr_u}\\t\\t{tr_c}')\n",
    "print(f'Test sample\\t\\t{t_o}\\t\\t{t_s}\\t\\t{t_u}\\t\\t{t_c}')\n",
    "print('=================================================================================')"
   ]
  },
  {
   "cell_type": "markdown",
   "metadata": {},
   "source": [
    "### Task 2.2: Exploratory Data Analysis (EDA) <a class=\"anchor\" id=\"task22\"></a>\n",
    "Explore you data: make plots, print tables. Make sure to write your observations. Do not forget to fill-in missing values, define relevant columns transformatios.\n"
   ]
  },
  {
   "cell_type": "markdown",
   "metadata": {},
   "source": [
    "2.2.1. We will divide our data exploration into three parts:\n",
    "1. Removal of uninformative data;\n",
    "2. Exploration and transformation of categorical features;\n",
    "3. Exploration and transformation of numeric features."
   ]
  },
  {
   "cell_type": "markdown",
   "metadata": {},
   "source": [
    "2.2.2. Removal of uninformative data"
   ]
  },
  {
   "cell_type": "code",
   "execution_count": 11,
   "metadata": {},
   "outputs": [
    {
     "name": "stdout",
     "output_type": "stream",
     "text": [
      "<class 'pandas.core.frame.DataFrame'>\n",
      "Int64Index: 51168 entries, 47346 to 52766\n",
      "Data columns (total 21 columns):\n",
      " #   Column                 Non-Null Count  Dtype  \n",
      "---  ------                 --------------  -----  \n",
      " 0   imdb_title_id          51168 non-null  object \n",
      " 1   title                  51168 non-null  object \n",
      " 2   original_title         51168 non-null  object \n",
      " 3   year                   51168 non-null  int64  \n",
      " 4   date_published         51168 non-null  object \n",
      " 5   genre                  51168 non-null  object \n",
      " 6   duration               51168 non-null  int64  \n",
      " 7   country                51165 non-null  object \n",
      " 8   language               50806 non-null  object \n",
      " 9   director               51148 non-null  object \n",
      " 10  writer                 50471 non-null  object \n",
      " 11  production_company     48816 non-null  object \n",
      " 12  actors                 51147 non-null  object \n",
      " 13  description            49456 non-null  object \n",
      " 14  votes                  51168 non-null  int64  \n",
      " 15  budget                 14239 non-null  object \n",
      " 16  usa_gross_income       10163 non-null  object \n",
      " 17  worlwide_gross_income  16308 non-null  object \n",
      " 18  metascore              7570 non-null   float64\n",
      " 19  reviews_from_users     47678 non-null  float64\n",
      " 20  reviews_from_critics   44186 non-null  float64\n",
      "dtypes: float64(3), int64(3), object(15)\n",
      "memory usage: 8.6+ MB\n"
     ]
    }
   ],
   "source": [
    "X_train.info()"
   ]
  },
  {
   "cell_type": "markdown",
   "metadata": {},
   "source": [
    "We need to remove the following columns:\n",
    "1. Technical fields:\n",
    "   * `imdb_title_id`\n",
    "2. Non-informative data:\n",
    "   * `year` - a movie from the future will contain a year that was not in the training data\n",
    "   * `date_published` - a movie from the future will contain a date published that was not in the training data\n",
    "3. Information from the future (which is not present at the time of production of the film):\n",
    "   * `votes`\n",
    "   * `usa_gross_income`\n",
    "   * `worlwide_gross_income`   \n",
    "   * `metascore`\n",
    "   * `reviews_from_users`   \n",
    "   * `reviews_from_critics`\n"
   ]
  },
  {
   "cell_type": "code",
   "execution_count": 12,
   "metadata": {},
   "outputs": [
    {
     "name": "stderr",
     "output_type": "stream",
     "text": [
      "C:\\ProgramData\\Anaconda3\\lib\\site-packages\\pandas\\core\\frame.py:3990: SettingWithCopyWarning: \n",
      "A value is trying to be set on a copy of a slice from a DataFrame\n",
      "\n",
      "See the caveats in the documentation: https://pandas.pydata.org/pandas-docs/stable/user_guide/indexing.html#returning-a-view-versus-a-copy\n",
      "  return super().drop(\n"
     ]
    }
   ],
   "source": [
    "removal_columns = ['imdb_title_id', 'year', 'date_published', 'votes', 'usa_gross_income',\n",
    "                   'worlwide_gross_income', 'metascore', 'reviews_from_users', 'reviews_from_critics']\n",
    "X_train.drop(removal_columns, axis=1, inplace=True)\n",
    "X_test.drop(removal_columns, axis=1, inplace=True)"
   ]
  },
  {
   "cell_type": "code",
   "execution_count": 13,
   "metadata": {},
   "outputs": [
    {
     "name": "stdout",
     "output_type": "stream",
     "text": [
      "<class 'pandas.core.frame.DataFrame'>\n",
      "Int64Index: 51168 entries, 47346 to 52766\n",
      "Data columns (total 12 columns):\n",
      " #   Column              Non-Null Count  Dtype \n",
      "---  ------              --------------  ----- \n",
      " 0   title               51168 non-null  object\n",
      " 1   original_title      51168 non-null  object\n",
      " 2   genre               51168 non-null  object\n",
      " 3   duration            51168 non-null  int64 \n",
      " 4   country             51165 non-null  object\n",
      " 5   language            50806 non-null  object\n",
      " 6   director            51148 non-null  object\n",
      " 7   writer              50471 non-null  object\n",
      " 8   production_company  48816 non-null  object\n",
      " 9   actors              51147 non-null  object\n",
      " 10  description         49456 non-null  object\n",
      " 11  budget              14239 non-null  object\n",
      "dtypes: int64(1), object(11)\n",
      "memory usage: 5.1+ MB\n"
     ]
    }
   ],
   "source": [
    "X_train.info()"
   ]
  },
  {
   "cell_type": "markdown",
   "metadata": {},
   "source": [
    "2.2.2. Exploration and transformation of categorical features"
   ]
  },
  {
   "cell_type": "code",
   "execution_count": 14,
   "metadata": {},
   "outputs": [
    {
     "data": {
      "text/html": [
       "<div>\n",
       "<style scoped>\n",
       "    .dataframe tbody tr th:only-of-type {\n",
       "        vertical-align: middle;\n",
       "    }\n",
       "\n",
       "    .dataframe tbody tr th {\n",
       "        vertical-align: top;\n",
       "    }\n",
       "\n",
       "    .dataframe thead th {\n",
       "        text-align: right;\n",
       "    }\n",
       "</style>\n",
       "<table border=\"1\" class=\"dataframe\">\n",
       "  <thead>\n",
       "    <tr style=\"text-align: right;\">\n",
       "      <th></th>\n",
       "      <th>title</th>\n",
       "      <th>original_title</th>\n",
       "      <th>genre</th>\n",
       "      <th>country</th>\n",
       "      <th>language</th>\n",
       "      <th>director</th>\n",
       "      <th>writer</th>\n",
       "      <th>production_company</th>\n",
       "      <th>actors</th>\n",
       "      <th>description</th>\n",
       "      <th>budget</th>\n",
       "    </tr>\n",
       "  </thead>\n",
       "  <tbody>\n",
       "    <tr>\n",
       "      <th>count</th>\n",
       "      <td>51168</td>\n",
       "      <td>51168</td>\n",
       "      <td>51168</td>\n",
       "      <td>51165</td>\n",
       "      <td>50806</td>\n",
       "      <td>51148</td>\n",
       "      <td>50471</td>\n",
       "      <td>48816</td>\n",
       "      <td>51147</td>\n",
       "      <td>49456</td>\n",
       "      <td>14239</td>\n",
       "    </tr>\n",
       "    <tr>\n",
       "      <th>unique</th>\n",
       "      <td>49051</td>\n",
       "      <td>49052</td>\n",
       "      <td>1155</td>\n",
       "      <td>2930</td>\n",
       "      <td>2840</td>\n",
       "      <td>20640</td>\n",
       "      <td>41182</td>\n",
       "      <td>19085</td>\n",
       "      <td>51132</td>\n",
       "      <td>49394</td>\n",
       "      <td>3125</td>\n",
       "    </tr>\n",
       "    <tr>\n",
       "      <th>top</th>\n",
       "      <td>Wanted</td>\n",
       "      <td>Wanted</td>\n",
       "      <td>Drama</td>\n",
       "      <td>USA</td>\n",
       "      <td>English</td>\n",
       "      <td>Jesús Franco</td>\n",
       "      <td>Jing Wong</td>\n",
       "      <td>Metro-Goldwyn-Mayer (MGM)</td>\n",
       "      <td>Nobuyo Ôyama, Noriko Ohara, Michiko Nomura, Ka...</td>\n",
       "      <td>Based on</td>\n",
       "      <td>$ 1000000</td>\n",
       "    </tr>\n",
       "    <tr>\n",
       "      <th>freq</th>\n",
       "      <td>7</td>\n",
       "      <td>7</td>\n",
       "      <td>7197</td>\n",
       "      <td>18691</td>\n",
       "      <td>22874</td>\n",
       "      <td>76</td>\n",
       "      <td>60</td>\n",
       "      <td>1080</td>\n",
       "      <td>10</td>\n",
       "      <td>6</td>\n",
       "      <td>436</td>\n",
       "    </tr>\n",
       "    <tr>\n",
       "      <th>num_nulls</th>\n",
       "      <td>0</td>\n",
       "      <td>0</td>\n",
       "      <td>0</td>\n",
       "      <td>3</td>\n",
       "      <td>362</td>\n",
       "      <td>20</td>\n",
       "      <td>697</td>\n",
       "      <td>2352</td>\n",
       "      <td>21</td>\n",
       "      <td>1712</td>\n",
       "      <td>36929</td>\n",
       "    </tr>\n",
       "    <tr>\n",
       "      <th>nulls_ratio</th>\n",
       "      <td>0</td>\n",
       "      <td>0</td>\n",
       "      <td>0</td>\n",
       "      <td>5.86304e-05</td>\n",
       "      <td>0.00707473</td>\n",
       "      <td>0.000390869</td>\n",
       "      <td>0.0136218</td>\n",
       "      <td>0.0459662</td>\n",
       "      <td>0.000410413</td>\n",
       "      <td>0.0334584</td>\n",
       "      <td>0.721721</td>\n",
       "    </tr>\n",
       "  </tbody>\n",
       "</table>\n",
       "</div>"
      ],
      "text/plain": [
       "              title original_title  genre      country    language  \\\n",
       "count         51168          51168  51168        51165       50806   \n",
       "unique        49051          49052   1155         2930        2840   \n",
       "top          Wanted         Wanted  Drama          USA     English   \n",
       "freq              7              7   7197        18691       22874   \n",
       "num_nulls         0              0      0            3         362   \n",
       "nulls_ratio       0              0      0  5.86304e-05  0.00707473   \n",
       "\n",
       "                 director     writer         production_company  \\\n",
       "count               51148      50471                      48816   \n",
       "unique              20640      41182                      19085   \n",
       "top          Jesús Franco  Jing Wong  Metro-Goldwyn-Mayer (MGM)   \n",
       "freq                   76         60                       1080   \n",
       "num_nulls              20        697                       2352   \n",
       "nulls_ratio   0.000390869  0.0136218                  0.0459662   \n",
       "\n",
       "                                                        actors description  \\\n",
       "count                                                    51147       49456   \n",
       "unique                                                   51132       49394   \n",
       "top          Nobuyo Ôyama, Noriko Ohara, Michiko Nomura, Ka...    Based on   \n",
       "freq                                                        10           6   \n",
       "num_nulls                                                   21        1712   \n",
       "nulls_ratio                                        0.000410413   0.0334584   \n",
       "\n",
       "                budget  \n",
       "count            14239  \n",
       "unique            3125  \n",
       "top          $ 1000000  \n",
       "freq               436  \n",
       "num_nulls        36929  \n",
       "nulls_ratio   0.721721  "
      ]
     },
     "execution_count": 14,
     "metadata": {},
     "output_type": "execute_result"
    }
   ],
   "source": [
    "cat_columns = X_train.select_dtypes('object').columns.to_list()\n",
    "\n",
    "describe_info = X_train[cat_columns].describe()\n",
    "describe_info.loc['num_nulls'] = X_train.shape[0] - describe_info.loc['count']\n",
    "describe_info.loc['nulls_ratio'] = describe_info.loc['num_nulls'] / X_train.shape[0]\n",
    "describe_info"
   ]
  },
  {
   "cell_type": "code",
   "execution_count": 15,
   "metadata": {},
   "outputs": [
    {
     "data": {
      "image/png": "[encoded data removed]",
      "text/plain": [
       "<Figure size 864x288 with 2 Axes>"
      ]
     },
     "metadata": {
      "needs_background": "light"
     },
     "output_type": "display_data"
    },
    {
     "data": {
      "image/png": "[encoded data removed]",
      "text/plain": [
       "<Figure size 864x288 with 2 Axes>"
      ]
     },
     "metadata": {
      "needs_background": "light"
     },
     "output_type": "display_data"
    },
    {
     "data": {
      "image/png": "[encoded data removed]",
      "text/plain": [
       "<Figure size 864x288 with 2 Axes>"
      ]
     },
     "metadata": {
      "needs_background": "light"
     },
     "output_type": "display_data"
    },
    {
     "data": {
      "image/png": "[encoded data removed]",
      "text/plain": [
       "<Figure size 864x288 with 2 Axes>"
      ]
     },
     "metadata": {
      "needs_background": "light"
     },
     "output_type": "display_data"
    },
    {
     "data": {
      "image/png": "[encoded data removed]",
      "text/plain": [
       "<Figure size 864x288 with 2 Axes>"
      ]
     },
     "metadata": {
      "needs_background": "light"
     },
     "output_type": "display_data"
    },
    {
     "data": {
      "image/png": "[encoded data removed]",
      "text/plain": [
       "<Figure size 864x288 with 2 Axes>"
      ]
     },
     "metadata": {
      "needs_background": "light"
     },
     "output_type": "display_data"
    },
    {
     "data": {
      "image/png": "[encoded data removed]",
      "text/plain": [
       "<Figure size 864x288 with 2 Axes>"
      ]
     },
     "metadata": {
      "needs_background": "light"
     },
     "output_type": "display_data"
    },
    {
     "data": {
      "image/png": "[encoded data removed]",
      "text/plain": [
       "<Figure size 864x288 with 2 Axes>"
      ]
     },
     "metadata": {
      "needs_background": "light"
     },
     "output_type": "display_data"
    },
    {
     "data": {
      "image/png": "[encoded data removed]",
      "text/plain": [
       "<Figure size 864x288 with 2 Axes>"
      ]
     },
     "metadata": {
      "needs_background": "light"
     },
     "output_type": "display_data"
    },
    {
     "data": {
      "image/png": "[encoded data removed]",
      "text/plain": [
       "<Figure size 864x288 with 2 Axes>"
      ]
     },
     "metadata": {
      "needs_background": "light"
     },
     "output_type": "display_data"
    },
    {
     "data": {
      "image/png": "[encoded data removed]",
      "text/plain": [
       "<Figure size 864x288 with 2 Axes>"
      ]
     },
     "metadata": {
      "needs_background": "light"
     },
     "output_type": "display_data"
    }
   ],
   "source": [
    "max_len = 20\n",
    "top = 10\n",
    "\n",
    "for c in cat_columns:\n",
    "    fig, ax = plt.subplots(1, 2, figsize=(12, 4))\n",
    "    fig.suptitle(f'{c} (top-{top})', fontsize=16)\n",
    "    pivot = X_train.assign(cnt=1, target=y_train).pivot_table(index=c, columns='target', values='cnt',\n",
    "                                                              aggfunc='count', fill_value=0)\n",
    "    pivot['num_obs'] = pivot.sum(axis=1)\n",
    "    pivot['ratio_target'] = pivot[1] / pivot.num_obs\n",
    "    pivot.sort_values('num_obs', inplace=True)\n",
    "    pivot = pivot.tail(top)\n",
    "    pivot.num_obs.plot.barh(ax=ax[0])\n",
    "    \n",
    "    labels = []\n",
    "    for label in ax[0].get_yticklabels():\n",
    "        text = label.get_text()\n",
    "        if len(text) > max_len:\n",
    "            label.set_text(text[:max_len])\n",
    "        labels.append(label)\n",
    "    \n",
    "    ax[0].set_yticklabels(labels)\n",
    "    ax[0].set_ylabel('')\n",
    "    ax[0].set_xlabel('observations')\n",
    "    ax[0].grid()\n",
    "    \n",
    "    pivot.ratio_target.plot.barh(ax=ax[1])\n",
    "    \n",
    "    labels = []\n",
    "    for label in ax[1].get_yticklabels():\n",
    "        text = label.get_text()\n",
    "        if len(text) > max_len:\n",
    "            label.set_text(text[:max_len])\n",
    "        labels.append(label)\n",
    "    \n",
    "    ax[1].set_yticklabels(labels)\n",
    "    ax[1].set_ylabel('')\n",
    "    ax[1].set_xlabel('ratio')\n",
    "    ax[1].yaxis.tick_right()\n",
    "    ax[1].grid()"
   ]
  },
  {
   "cell_type": "markdown",
   "metadata": {},
   "source": [
    "2.2.2.1. Let's remove the columns that contain many unique values:\n",
    "* **`title`**\n",
    "* **`original_title`**\n",
    "* **`writer`**\n",
    "* **`actors`**\n",
    "* **`description`**\t\n",
    "\n",
    "**Note.** We do not use NLP techniques for this text data, so we cannot properly process and group them according to their meaning.\n"
   ]
  },
  {
   "cell_type": "code",
   "execution_count": 16,
   "metadata": {},
   "outputs": [
    {
     "name": "stderr",
     "output_type": "stream",
     "text": [
      "C:\\ProgramData\\Anaconda3\\lib\\site-packages\\pandas\\core\\frame.py:3990: SettingWithCopyWarning: \n",
      "A value is trying to be set on a copy of a slice from a DataFrame\n",
      "\n",
      "See the caveats in the documentation: https://pandas.pydata.org/pandas-docs/stable/user_guide/indexing.html#returning-a-view-versus-a-copy\n",
      "  return super().drop(\n"
     ]
    }
   ],
   "source": [
    "removal_columns = ['title', 'original_title', 'writer', 'actors', 'description']\n",
    "X_train.drop(removal_columns, axis=1, inplace=True)\n",
    "X_test.drop(removal_columns, axis=1, inplace=True)"
   ]
  },
  {
   "cell_type": "markdown",
   "metadata": {},
   "source": [
    "2.2.2.2. Let's also remove the **`budget`** column, since it contains different types of currencies that would be difficult to bring to a single currency, due to different exchange rates at different times and inflation. This column also contains many blank values.\n"
   ]
  },
  {
   "cell_type": "code",
   "execution_count": 17,
   "metadata": {},
   "outputs": [],
   "source": [
    "X_train.drop('budget', axis=1, inplace=True)\n",
    "X_test.drop('budget', axis=1, inplace=True)"
   ]
  },
  {
   "cell_type": "markdown",
   "metadata": {},
   "source": [
    "Let's transform the rest of the features"
   ]
  },
  {
   "cell_type": "markdown",
   "metadata": {},
   "source": [
    "2.2.2.3. Let's binarize the **`genre`** feature using the MultiLabelBinarizer method.  \n",
    "Since binning can give a lot of weakly informative features, let's remove features that contain many zeros (> 99%)."
   ]
  },
  {
   "cell_type": "code",
   "execution_count": 18,
   "metadata": {},
   "outputs": [
    {
     "name": "stderr",
     "output_type": "stream",
     "text": [
      "C:\\ProgramData\\Anaconda3\\lib\\site-packages\\pandas\\core\\generic.py:5303: SettingWithCopyWarning: \n",
      "A value is trying to be set on a copy of a slice from a DataFrame.\n",
      "Try using .loc[row_indexer,col_indexer] = value instead\n",
      "\n",
      "See the caveats in the documentation: https://pandas.pydata.org/pandas-docs/stable/user_guide/indexing.html#returning-a-view-versus-a-copy\n",
      "  self[name] = value\n"
     ]
    }
   ],
   "source": [
    "from sklearn.preprocessing import MultiLabelBinarizer\n",
    "\n",
    "vector = MultiLabelBinarizer(sparse_output=True)\n",
    "X_train.genre = X_train.genre.str.split(', ')\n",
    "X_test.genre = X_test.genre.str.split(', ')\n",
    "X_train = X_train.merge(pd.DataFrame.sparse.from_spmatrix(vector.fit_transform(X_train.genre), \n",
    "                                                          X_train.index, 'genre_' + vector.classes_), \n",
    "                        how='inner', left_index=True, right_index=True)\n",
    "X_test = X_test.merge(pd.DataFrame.sparse.from_spmatrix(vector.transform(X_test.genre), X_test.index, \n",
    "                                                        'genre_' + vector.classes_),\n",
    "                      how='inner', left_index=True, right_index=True)"
   ]
  },
  {
   "cell_type": "code",
   "execution_count": 19,
   "metadata": {},
   "outputs": [],
   "source": [
    "zeros = 1 - X_train.astype(bool).sum(axis=0) / X_train.shape[0]\n",
    "zeros = zeros[zeros > 0.99]\n",
    "\n",
    "X_train.drop(zeros.index, axis=1, inplace=True)\n",
    "X_test.drop(zeros.index, axis=1, inplace=True)"
   ]
  },
  {
   "cell_type": "code",
   "execution_count": 20,
   "metadata": {},
   "outputs": [
    {
     "data": {
      "text/plain": [
       "((51168, 27), (9030, 27))"
      ]
     },
     "execution_count": 20,
     "metadata": {},
     "output_type": "execute_result"
    }
   ],
   "source": [
    "X_train.shape, X_test.shape"
   ]
  },
  {
   "cell_type": "markdown",
   "metadata": {},
   "source": [
    "2.2.2.4. Let's transform the **`country`**:\n",
    "* binarize the feature using the MultiLabelBinarizer method;\n",
    "* fill in the gaps with the most frequent value: 'USA'\n",
    "\n",
    "Since binning can give a lot of weakly informative features, let's remove features that contain many zeros (> 99%)."
   ]
  },
  {
   "cell_type": "code",
   "execution_count": 21,
   "metadata": {},
   "outputs": [
    {
     "name": "stderr",
     "output_type": "stream",
     "text": [
      "C:\\ProgramData\\Anaconda3\\lib\\site-packages\\sklearn\\preprocessing\\_label.py:994: UserWarning: unknown class(es) ['Fiji', 'Papua New Guinea', 'Uganda'] will be ignored\n",
      "  warnings.warn('unknown class(es) {0} will be ignored'\n"
     ]
    }
   ],
   "source": [
    "vector = MultiLabelBinarizer(sparse_output=True)\n",
    "\n",
    "X_train.country.fillna('USA', inplace=True)\n",
    "X_test.country.fillna('USA', inplace=True)\n",
    "X_train.country = X_train.country.str.split(', ')\n",
    "X_test.country = X_test.country.str.split(', ')\n",
    "X_train = X_train.merge(pd.DataFrame.sparse.from_spmatrix(vector.fit_transform(X_train.country), \n",
    "                                                          X_train.index, 'country_' + vector.classes_),\n",
    "                        how='inner', left_index=True, right_index=True)\n",
    "X_test = X_test.merge(pd.DataFrame.sparse.from_spmatrix(vector.transform(X_test.country), \n",
    "                                                        X_test.index, 'country_' + vector.classes_),\n",
    "                      how='inner', left_index=True, right_index=True)"
   ]
  },
  {
   "cell_type": "code",
   "execution_count": 22,
   "metadata": {},
   "outputs": [],
   "source": [
    "zeros = 1 - X_train.astype(bool).sum(axis=0) / X_train.shape[0]\n",
    "zeros = zeros[zeros > 0.99]\n",
    "\n",
    "X_train.drop(zeros.index, axis=1, inplace=True)\n",
    "X_test.drop(zeros.index, axis=1, inplace=True)"
   ]
  },
  {
   "cell_type": "code",
   "execution_count": 23,
   "metadata": {},
   "outputs": [
    {
     "data": {
      "text/plain": [
       "((51168, 47), (9030, 47))"
      ]
     },
     "execution_count": 23,
     "metadata": {},
     "output_type": "execute_result"
    }
   ],
   "source": [
    "X_train.shape, X_test.shape"
   ]
  },
  {
   "cell_type": "markdown",
   "metadata": {},
   "source": [
    "2.2.2.5. Let's transform the **`language`**:\n",
    "* binarize the feature using the MultiLabelBinarizer method;\n",
    "* fill in the gaps with the most frequent value: 'English'\n",
    "\n",
    "Since binning can give a lot of weakly informative features, let's remove features that contain many zeros (> 99%)."
   ]
  },
  {
   "cell_type": "code",
   "execution_count": 24,
   "metadata": {},
   "outputs": [
    {
     "name": "stderr",
     "output_type": "stream",
     "text": [
      "C:\\ProgramData\\Anaconda3\\lib\\site-packages\\sklearn\\preprocessing\\_label.py:994: UserWarning: unknown class(es) ['Creek', 'Kabyle', 'Kuna', 'Rotuman', 'Shanxi', 'Shoshoni'] will be ignored\n",
      "  warnings.warn('unknown class(es) {0} will be ignored'\n"
     ]
    }
   ],
   "source": [
    "vector = MultiLabelBinarizer(sparse_output=True)\n",
    "\n",
    "X_train.language.fillna('English', inplace=True)\n",
    "X_test.language.fillna('English', inplace=True)\n",
    "X_train.language = X_train.language.str.split(', ')\n",
    "X_test.language = X_test.language.str.split(', ')\n",
    "X_train = X_train.merge(pd.DataFrame.sparse.from_spmatrix(vector.fit_transform(X_train.language),\n",
    "                                                          X_train.index, 'language_' + vector.classes_),\n",
    "                        how='inner', left_index=True, right_index=True)\n",
    "X_test = X_test.merge(pd.DataFrame.sparse.from_spmatrix(vector.transform(X_test.language),\n",
    "                                                        X_test.index, 'language_' + vector.classes_),\n",
    "                      how='inner', left_index=True, right_index=True)"
   ]
  },
  {
   "cell_type": "code",
   "execution_count": 25,
   "metadata": {},
   "outputs": [],
   "source": [
    "zeros = 1 - X_train.astype(bool).sum(axis=0) / X_train.shape[0]\n",
    "zeros = zeros[zeros > 0.99]\n",
    "\n",
    "X_train.drop(zeros.index, axis=1, inplace=True)\n",
    "X_test.drop(zeros.index, axis=1, inplace=True)"
   ]
  },
  {
   "cell_type": "code",
   "execution_count": 26,
   "metadata": {},
   "outputs": [
    {
     "data": {
      "text/plain": [
       "((51168, 65), (9030, 65))"
      ]
     },
     "execution_count": 26,
     "metadata": {},
     "output_type": "execute_result"
    }
   ],
   "source": [
    "X_train.shape, X_test.shape"
   ]
  },
  {
   "cell_type": "markdown",
   "metadata": {},
   "source": [
    "2.2.2.6. Let's remove the original columns by which the transformations were made.  "
   ]
  },
  {
   "cell_type": "code",
   "execution_count": 27,
   "metadata": {},
   "outputs": [],
   "source": [
    "removal_columns = ['genre', 'country', 'language']\n",
    "X_train.drop(removal_columns, axis=1, inplace=True)\n",
    "X_test.drop(removal_columns, axis=1, inplace=True)"
   ]
  },
  {
   "cell_type": "code",
   "execution_count": 28,
   "metadata": {},
   "outputs": [
    {
     "data": {
      "text/plain": [
       "((51168, 62), (9030, 62))"
      ]
     },
     "execution_count": 28,
     "metadata": {},
     "output_type": "execute_result"
    }
   ],
   "source": [
    "X_train.shape, X_test.shape"
   ]
  },
  {
   "cell_type": "markdown",
   "metadata": {},
   "source": [
    "2.2.3. Exploration and transformation of numeric features"
   ]
  },
  {
   "cell_type": "code",
   "execution_count": 29,
   "metadata": {},
   "outputs": [],
   "source": [
    "numeric_columns = X_train.select_dtypes('int64').columns.to_list()"
   ]
  },
  {
   "cell_type": "code",
   "execution_count": 30,
   "metadata": {},
   "outputs": [
    {
     "data": {
      "text/html": [
       "<div>\n",
       "<style scoped>\n",
       "    .dataframe tbody tr th:only-of-type {\n",
       "        vertical-align: middle;\n",
       "    }\n",
       "\n",
       "    .dataframe tbody tr th {\n",
       "        vertical-align: top;\n",
       "    }\n",
       "\n",
       "    .dataframe thead th {\n",
       "        text-align: right;\n",
       "    }\n",
       "</style>\n",
       "<table border=\"1\" class=\"dataframe\">\n",
       "  <thead>\n",
       "    <tr style=\"text-align: right;\">\n",
       "      <th></th>\n",
       "      <th>duration</th>\n",
       "    </tr>\n",
       "  </thead>\n",
       "  <tbody>\n",
       "    <tr>\n",
       "      <th>count</th>\n",
       "      <td>51168.000000</td>\n",
       "    </tr>\n",
       "    <tr>\n",
       "      <th>mean</th>\n",
       "      <td>99.763465</td>\n",
       "    </tr>\n",
       "    <tr>\n",
       "      <th>std</th>\n",
       "      <td>22.604868</td>\n",
       "    </tr>\n",
       "    <tr>\n",
       "      <th>min</th>\n",
       "      <td>40.000000</td>\n",
       "    </tr>\n",
       "    <tr>\n",
       "      <th>25%</th>\n",
       "      <td>88.000000</td>\n",
       "    </tr>\n",
       "    <tr>\n",
       "      <th>50%</th>\n",
       "      <td>96.000000</td>\n",
       "    </tr>\n",
       "    <tr>\n",
       "      <th>75%</th>\n",
       "      <td>107.000000</td>\n",
       "    </tr>\n",
       "    <tr>\n",
       "      <th>max</th>\n",
       "      <td>729.000000</td>\n",
       "    </tr>\n",
       "    <tr>\n",
       "      <th>num_nulls</th>\n",
       "      <td>0.000000</td>\n",
       "    </tr>\n",
       "    <tr>\n",
       "      <th>nulls_ratio</th>\n",
       "      <td>0.000000</td>\n",
       "    </tr>\n",
       "  </tbody>\n",
       "</table>\n",
       "</div>"
      ],
      "text/plain": [
       "                 duration\n",
       "count        51168.000000\n",
       "mean            99.763465\n",
       "std             22.604868\n",
       "min             40.000000\n",
       "25%             88.000000\n",
       "50%             96.000000\n",
       "75%            107.000000\n",
       "max            729.000000\n",
       "num_nulls        0.000000\n",
       "nulls_ratio      0.000000"
      ]
     },
     "execution_count": 30,
     "metadata": {},
     "output_type": "execute_result"
    }
   ],
   "source": [
    "describe_info = X_train[numeric_columns].describe()\n",
    "describe_info.loc['num_nulls'] = X_train.shape[0] - describe_info.loc['count']\n",
    "describe_info.loc['nulls_ratio'] = describe_info.loc['num_nulls'] / X_train.shape[0]\n",
    "describe_info"
   ]
  },
  {
   "cell_type": "code",
   "execution_count": 31,
   "metadata": {},
   "outputs": [
    {
     "data": {
      "image/png": "[encoded data removed]",
      "text/plain": [
       "<Figure size 1008x288 with 2 Axes>"
      ]
     },
     "metadata": {
      "needs_background": "light"
     },
     "output_type": "display_data"
    }
   ],
   "source": [
    "ax = X_train.assign(target=y_train).hist(column='duration', by='target', sharex=True, figsize=(14, 4))\n",
    "ax[0].set_title(f'duration, target = {ax[0].get_title()}')\n",
    "ax[0].grid()\n",
    "ax[1].set_title(f'duration, target = {ax[1].get_title()}')\n",
    "ax[1].grid()"
   ]
  },
  {
   "cell_type": "markdown",
   "metadata": {},
   "source": [
    "2.2.3.1. We see that **`duration`** is distributed abnormally, so let's make standardization using StandardScaler method:\n",
    "\n",
    "Let's also transform the remaining categorical variables using the TargetEncoder method (null values will be filled with the target mean):\n",
    "* **`production_company`**\n",
    "* **`director`**\n"
   ]
  },
  {
   "cell_type": "code",
   "execution_count": 32,
   "metadata": {},
   "outputs": [],
   "source": [
    "from category_encoders.target_encoder import TargetEncoder\n",
    "from sklearn.compose import ColumnTransformer\n",
    "from sklearn.preprocessing import StandardScaler\n",
    "\n",
    "column_transformer = ColumnTransformer(\n",
    "    [('duration', StandardScaler(), ['duration']),\n",
    "     ('target_encoders', TargetEncoder(), ['production_company', 'director'])],\n",
    "    remainder=\"passthrough\")"
   ]
  },
  {
   "cell_type": "markdown",
   "metadata": {},
   "source": [
    "---\n",
    "\n",
    "\n",
    "\n",
    "# PART 3. Train and compare the models <a class=\"anchor\" id=\"part3\"></a>"
   ]
  },
  {
   "cell_type": "markdown",
   "metadata": {},
   "source": [
    "For the binary classification problem, we will use three types of models:\n",
    "* **`Logistic Regression`**\n",
    "* **`Decision Tree Classifier`**\n",
    "* **`Gradient Boosting Classifier`**"
   ]
  },
  {
   "cell_type": "markdown",
   "metadata": {},
   "source": [
    "### Task 3.1. Selection models and hyperparameters <a class=\"anchor\" id=\"task31\"></a>\n",
    "\n",
    "Select models, you are going to train, select hyperparameters that have to be tunes\n"
   ]
  },
  {
   "cell_type": "code",
   "execution_count": 33,
   "metadata": {},
   "outputs": [],
   "source": [
    "from sklearn.pipeline import Pipeline\n",
    "from sklearn.linear_model import LogisticRegression\n",
    "from sklearn.tree import DecisionTreeClassifier\n",
    "from sklearn.ensemble import GradientBoostingClassifier"
   ]
  },
  {
   "cell_type": "markdown",
   "metadata": {},
   "source": [
    "3.1.1. Pipeline for **`Logistic Regression`**\n",
    "\n",
    "For `Logistic Regression`, let's tune the L2-regularization hyperparameter, which reduce the overfitting."
   ]
  },
  {
   "cell_type": "code",
   "execution_count": 34,
   "metadata": {},
   "outputs": [],
   "source": [
    "logreg_pipe = Pipeline([('column_transformer', column_transformer), \n",
    "                        ('estimator', LogisticRegression(n_jobs=-1))])\n",
    "\n",
    "logreg_grid = {'estimator__penalty': ['none', 'l2'], \n",
    "               'estimator__C': [0.01, 0.05, 0.1, 0.5, 1, 5, 10]}"
   ]
  },
  {
   "cell_type": "markdown",
   "metadata": {},
   "source": [
    "3.1.2. Pipeline for **`Decision Tree Classifier`**\n",
    "\n",
    "For `Decision Tree Classifier`, let's tune next parameters for reducing the overfitting:\n",
    "* max_depth\n",
    "* min_samples_leaf\n",
    "* min_impurity_decrease"
   ]
  },
  {
   "cell_type": "code",
   "execution_count": 35,
   "metadata": {},
   "outputs": [],
   "source": [
    "tree_pipe = Pipeline([('column_transformer', column_transformer), \n",
    "                      ('estimator', DecisionTreeClassifier(random_state=42))])\n",
    "\n",
    "tree_grid = {'estimator__criterion': ['gini', 'entropy'],\n",
    "             'estimator__max_depth': [3, 4, 5, 6, 7, 8, 9, 10],\n",
    "             'estimator__min_samples_leaf': [3, 5, 10, 20, 40],\n",
    "             'estimator__min_impurity_decrease': [0.0, 0.01, 0.1]}"
   ]
  },
  {
   "cell_type": "markdown",
   "metadata": {},
   "source": [
    "3.1.3. Pipeline for **`Gradient Boosting Classifier`**\n",
    "\n",
    "For `Gradient Boosting Classifier`, let's tune next hyperparameters for reducing the overfitting and improve convergence:\n",
    "* n_estimators\n",
    "* max_depth\n",
    "* learning_rate\n",
    "* min_impurity_decrease"
   ]
  },
  {
   "cell_type": "code",
   "execution_count": 48,
   "metadata": {},
   "outputs": [],
   "source": [
    "boosting_pipe = Pipeline([('column_transformer', column_transformer), \n",
    "                          ('estimator', GradientBoostingClassifier(random_state=42))])\n",
    "\n",
    "boosting_grid = {'estimator__n_estimators': [100, 200, 300],\n",
    "                 'estimator__max_depth': [3, 4, 5],\n",
    "                 'estimator__learning_rate': [0.05, 0.1, 1],\n",
    "                 'estimator__min_impurity_decrease': [0.0, 0.01]}"
   ]
  },
  {
   "cell_type": "markdown",
   "metadata": {},
   "source": [
    "### Task 3.2. Tuning hyperparameters by Cross-Validation <a class=\"anchor\" id=\"task32\"></a>\n",
    "\n",
    "Use cross-validation to compare models and select best set of hyperparameters\n",
    "\n",
    "3.2.1. Let's use a 5-fold cross-validation scheme. For tuning the hyperparameters we will use F1-score.\n"
   ]
  },
  {
   "cell_type": "code",
   "execution_count": 37,
   "metadata": {},
   "outputs": [],
   "source": [
    "from sklearn.model_selection import GridSearchCV"
   ]
  },
  {
   "cell_type": "markdown",
   "metadata": {},
   "source": [
    "3.2.2. **`Logistic Regression`**"
   ]
  },
  {
   "cell_type": "code",
   "execution_count": 40,
   "metadata": {},
   "outputs": [
    {
     "name": "stderr",
     "output_type": "stream",
     "text": [
      "C:\\ProgramData\\Anaconda3\\lib\\site-packages\\sklearn\\linear_model\\_logistic.py:1320: UserWarning: Setting penalty='none' will ignore the C and l1_ratio parameters\n",
      "  warnings.warn(\n"
     ]
    },
    {
     "name": "stdout",
     "output_type": "stream",
     "text": [
      "best_score:  0.4603693724844626\n",
      "=======================================\n",
      "Pipeline(steps=[('column_transformer',\n",
      "                 ColumnTransformer(remainder='passthrough',\n",
      "                                   transformers=[('duration', StandardScaler(),\n",
      "                                                  ['duration']),\n",
      "                                                 ('target_encoders',\n",
      "                                                  TargetEncoder(),\n",
      "                                                  ['production_company',\n",
      "                                                   'director'])])),\n",
      "                ('estimator',\n",
      "                 LogisticRegression(C=0.01, n_jobs=-1, penalty='none'))])\n"
     ]
    }
   ],
   "source": [
    "logreg_cv = GridSearchCV(logreg_pipe, param_grid=logreg_grid, scoring='f1', cv=5, n_jobs=-1)\n",
    "logreg_cv.fit(X_train, y_train)\n",
    "print('best_score: ', logreg_cv.best_score_)\n",
    "print('=======================================')\n",
    "print(logreg_cv.best_estimator_)"
   ]
  },
  {
   "cell_type": "markdown",
   "metadata": {},
   "source": [
    "3.2.3. **`Decision Tree Classifier`**"
   ]
  },
  {
   "cell_type": "code",
   "execution_count": 41,
   "metadata": {},
   "outputs": [
    {
     "name": "stdout",
     "output_type": "stream",
     "text": [
      "best_score:  0.4961438140554105\n",
      "=======================================\n",
      "Pipeline(steps=[('column_transformer',\n",
      "                 ColumnTransformer(remainder='passthrough',\n",
      "                                   transformers=[('duration', StandardScaler(),\n",
      "                                                  ['duration']),\n",
      "                                                 ('target_encoders',\n",
      "                                                  TargetEncoder(),\n",
      "                                                  ['production_company',\n",
      "                                                   'director'])])),\n",
      "                ('estimator',\n",
      "                 DecisionTreeClassifier(max_depth=3, min_samples_leaf=40,\n",
      "                                        random_state=42))])\n"
     ]
    }
   ],
   "source": [
    "tree_cv = GridSearchCV(tree_pipe, param_grid=tree_grid, scoring='f1', cv=5, n_jobs=-1)\n",
    "tree_cv.fit(X_train, y_train)\n",
    "print('best_score: ', tree_cv.best_score_)\n",
    "print('=======================================')\n",
    "print(tree_cv.best_estimator_)"
   ]
  },
  {
   "cell_type": "markdown",
   "metadata": {},
   "source": [
    "3.2.4. **`Gradient Boosting Classifier`**"
   ]
  },
  {
   "cell_type": "code",
   "execution_count": 42,
   "metadata": {},
   "outputs": [
    {
     "name": "stdout",
     "output_type": "stream",
     "text": [
      "best_score:  0.4843777703430625\n",
      "=======================================\n",
      "Pipeline(steps=[('column_transformer',\n",
      "                 ColumnTransformer(remainder='passthrough',\n",
      "                                   transformers=[('duration', StandardScaler(),\n",
      "                                                  ['duration']),\n",
      "                                                 ('target_encoders',\n",
      "                                                  TargetEncoder(),\n",
      "                                                  ['production_company',\n",
      "                                                   'director'])])),\n",
      "                ('estimator',\n",
      "                 GradientBoostingClassifier(n_estimators=200,\n",
      "                                            random_state=42))])\n"
     ]
    }
   ],
   "source": [
    "boosting_cv = GridSearchCV(boosting_pipe, param_grid=boosting_grid, scoring='f1', cv=5, n_jobs=-1)\n",
    "boosting_cv.fit(X_train, y_train)\n",
    "print('best_score: ', boosting_cv.best_score_)\n",
    "print('=======================================')\n",
    "print(boosting_cv.best_estimator_)"
   ]
  },
  {
   "cell_type": "code",
   "execution_count": 49,
   "metadata": {},
   "outputs": [
    {
     "name": "stdout",
     "output_type": "stream",
     "text": [
      "best_score:  0.48601774396857317\n",
      "=======================================\n",
      "Pipeline(steps=[('column_transformer',\n",
      "                 ColumnTransformer(remainder='passthrough',\n",
      "                                   transformers=[('duration', StandardScaler(),\n",
      "                                                  ['duration']),\n",
      "                                                 ('target_encoders',\n",
      "                                                  TargetEncoder(),\n",
      "                                                  ['production_company',\n",
      "                                                   'director'])])),\n",
      "                ('estimator',\n",
      "                 GradientBoostingClassifier(min_impurity_decrease=0.01,\n",
      "                                            n_estimators=300,\n",
      "                                            random_state=42))])\n"
     ]
    }
   ],
   "source": [
    "boosting_cv = GridSearchCV(boosting_pipe, param_grid=boosting_grid, scoring='f1', cv=5, n_jobs=-1)\n",
    "boosting_cv.fit(X_train, y_train)\n",
    "print('best_score: ', boosting_cv.best_score_)\n",
    "print('=======================================')\n",
    "print(boosting_cv.best_estimator_)"
   ]
  },
  {
   "cell_type": "markdown",
   "metadata": {},
   "source": [
    "### Task 3.3. Results <a class=\"anchor\" id=\"task33\"></a>\n",
    "\n",
    "Which model and setup is the best? How does it perform on the test dataset? If you were to present this model to the client, how would you describe it?\n",
    "\n",
    "3.3.1. Let's calculate 4 selected metrics on training and test samples for each trained model:\n",
    "1. **`Precision`**\n",
    "2. **`Recall`** \n",
    "3. **`F1 score`**\n",
    "4. **`AUC PR`** "
   ]
  },
  {
   "cell_type": "markdown",
   "metadata": {},
   "source": [
    "3.3.2. **`Logistic Regression`**"
   ]
  },
  {
   "cell_type": "code",
   "execution_count": 143,
   "metadata": {},
   "outputs": [],
   "source": [
    "y_pred_logreg_tr = logreg_cv.predict(X_train)\n",
    "pr_logreg_tr = round(precision_score(y_train, y_pred_logreg_tr), 6)\n",
    "rec_logreg_tr = round(recall_score(y_train, y_pred_logreg_tr), 6)\n",
    "f1_logreg_tr = round(f1_score(y_train, y_pred_logreg_tr), 6)\n",
    "\n",
    "y_pred_logreg_t = logreg_cv.predict(X_test)\n",
    "pr_logreg_t = round(precision_score(y_test, y_pred_logreg_t), 6)\n",
    "rec_logreg_t = round(recall_score(y_test, y_pred_logreg_t), 6)\n",
    "f1_logreg_t = round(f1_score(y_test, y_pred_logreg_t), 6)\n",
    "\n",
    "y_pred_logreg_tr_p = logreg_cv.predict_proba(X_train)\n",
    "aps_logreg_tr = round(average_precision_score(y_train, y_pred_logreg_tr_p[:,1]), 6)\n",
    "\n",
    "y_pred_logreg_t_p = logreg_cv.predict_proba(X_test)\n",
    "aps_logreg_t = round(average_precision_score(y_test, y_pred_logreg_t_p[:,1]), 6)\n"
   ]
  },
  {
   "cell_type": "markdown",
   "metadata": {},
   "source": [
    "3.3.3. **`Decision Tree Classifier`**"
   ]
  },
  {
   "cell_type": "code",
   "execution_count": 144,
   "metadata": {},
   "outputs": [],
   "source": [
    "y_pred_tree_tr = tree_cv.predict(X_train)\n",
    "pr_tree_tr = round(precision_score(y_train, y_pred_tree_tr), 6)\n",
    "rec_tree_tr = round(recall_score(y_train, y_pred_tree_tr), 6)\n",
    "f1_tree_tr = round(f1_score(y_train, y_pred_tree_tr), 6)\n",
    "\n",
    "y_pred_tree_t = tree_cv.predict(X_test)\n",
    "pr_tree_t = round(precision_score(y_test, y_pred_tree_t), 6)\n",
    "rec_tree_t = round(recall_score(y_test, y_pred_tree_t), 6)\n",
    "f1_tree_t = round(f1_score(y_test, y_pred_tree_t), 6)\n",
    "\n",
    "y_pred_tree_tr_p = tree_cv.predict_proba(X_train)\n",
    "aps_tree_tr = round(average_precision_score(y_train, y_pred_tree_tr_p[:,1]), 6)\n",
    "\n",
    "y_pred_tree_t_p = tree_cv.predict_proba(X_test)\n",
    "aps_tree_t = round(average_precision_score(y_test, y_pred_tree_t_p[:,1]), 6)"
   ]
  },
  {
   "cell_type": "markdown",
   "metadata": {},
   "source": [
    "3.3.4. **`Gradient Boosting Classifier`**"
   ]
  },
  {
   "cell_type": "code",
   "execution_count": 145,
   "metadata": {},
   "outputs": [],
   "source": [
    "y_pred_boosting_tr = boosting_cv.predict(X_train)\n",
    "pr_boost_tr = round(precision_score(y_train, y_pred_boosting_tr), 6)\n",
    "rec_boost_tr = round(recall_score(y_train, y_pred_boosting_tr), 6)\n",
    "f1_boost_tr = round(f1_score(y_train, y_pred_boosting_tr), 6)\n",
    "\n",
    "y_pred_boosting_t = boosting_cv.predict(X_test)\n",
    "pr_boost_t = round(precision_score(y_test, y_pred_boosting_t), 6)\n",
    "rec_boost_t = round(recall_score(y_test, y_pred_boosting_t), 6)\n",
    "f1_boost_t = round(f1_score(y_test, y_pred_boosting_t), 6)\n",
    "\n",
    "y_pred_boosting_tr_p = boosting_cv.predict_proba(X_train)\n",
    "aps_boost_tr = round(average_precision_score(y_train, y_pred_boosting_tr_p[:,1]), 6)\n",
    "\n",
    "y_pred_boosting_t_p = boosting_cv.predict_proba(X_test)\n",
    "aps_boost_t = round(average_precision_score(y_test, y_pred_boosting_t_p[:,1]), 6)"
   ]
  },
  {
   "cell_type": "markdown",
   "metadata": {},
   "source": [
    "3.3.5. Summary results:"
   ]
  },
  {
   "cell_type": "code",
   "execution_count": 146,
   "metadata": {},
   "outputs": [
    {
     "name": "stdout",
     "output_type": "stream",
     "text": [
      "==========================================================================================\n",
      "TRAIN \t\t\t\t Precision \t Recall \t F1_score \t AUC PR\n",
      "Logistic Regression \t\t 0.757329 \t 0.556471 \t 0.641546 \t 0.751625\n",
      "Decision Tree Classifier \t 0.629978 \t 0.721483 \t 0.672633 \t 0.623881\n",
      "Gradient Boosting Classifier \t 0.755879 \t 0.617063 \t 0.679453 \t 0.79644\n",
      "------------------------------------------------------------------------------------------\n",
      "TEST \t\t\t\t Precision \t Recall \t F1_score \t AUC PR\n",
      "Logistic Regression \t\t 0.613065 \t 0.388329 \t 0.475479 \t 0.544765\n",
      "Decision Tree Classifier \t 0.481281 \t 0.518302 \t 0.499106 \t 0.408923\n",
      "Gradient Boosting Classifier \t 0.596714 \t 0.423873 \t 0.495658 \t 0.530636\n",
      "==========================================================================================\n"
     ]
    }
   ],
   "source": [
    "print('==========================================================================================')\n",
    "print('TRAIN \\t\\t\\t\\t Precision \\t Recall \\t F1_score \\t AUC PR')\n",
    "print(f'Logistic Regression \\t\\t {pr_logreg_tr} \\t {rec_logreg_tr} \\t {f1_logreg_tr} \\t {aps_logreg_tr}')\n",
    "print(f'Decision Tree Classifier \\t {pr_tree_tr} \\t {rec_tree_tr} \\t {f1_tree_tr} \\t {aps_tree_tr}')\n",
    "print(f'Gradient Boosting Classifier \\t {pr_boost_tr} \\t {rec_boost_tr} \\t {f1_boost_tr} \\t {aps_boost_tr}')\n",
    "print('------------------------------------------------------------------------------------------')\n",
    "print('TEST \\t\\t\\t\\t Precision \\t Recall \\t F1_score \\t AUC PR')\n",
    "print(f'Logistic Regression \\t\\t {pr_logreg_t} \\t {rec_logreg_t} \\t {f1_logreg_t} \\t {aps_logreg_t}')\n",
    "print(f'Decision Tree Classifier \\t {pr_tree_t} \\t {rec_tree_t} \\t {f1_tree_t} \\t {aps_tree_t}')\n",
    "print(f'Gradient Boosting Classifier \\t {pr_boost_t} \\t {rec_boost_t} \\t {f1_boost_t} \\t {aps_boost_t}')\n",
    "print('==========================================================================================')"
   ]
  },
  {
   "cell_type": "markdown",
   "metadata": {},
   "source": [
    "3.3.6. Precision-Recall Curves for all models on training and test samples:"
   ]
  },
  {
   "cell_type": "code",
   "execution_count": 147,
   "metadata": {},
   "outputs": [
    {
     "data": {
      "image/png": "[encoded data removed]",
      "text/plain": [
       "<Figure size 576x576 with 1 Axes>"
      ]
     },
     "metadata": {
      "needs_background": "light"
     },
     "output_type": "display_data"
    }
   ],
   "source": [
    "from sklearn.metrics import precision_recall_curve\n",
    "\n",
    "precision_logreg, recall_logreg, thresholds_logreg = precision_recall_curve(y_test, y_pred_logreg_t_p[:,1])\n",
    "precision_tree, recall_tree, thresholds_tree = precision_recall_curve(y_test, y_pred_tree_t_p[:,1])\n",
    "precision_boosting, recall_boosting, thresholds_boosting = precision_recall_curve(y_test, y_pred_boosting_t_p[:,1])\n",
    "\n",
    "precision_logreg_tr, recall_logreg_tr, thresholds_logreg_tr = precision_recall_curve(y_train, y_pred_logreg_tr_p[:,1])\n",
    "precision_tree_tr, recall_tree_tr, thresholds_tree_tr = precision_recall_curve(y_train, y_pred_tree_tr_p[:,1])\n",
    "precision_boosting_tr, recall_boosting_tr, thresholds_boosting_tr = precision_recall_curve(y_train, y_pred_boosting_tr_p[:,1])\n",
    "\n",
    "fig = plt.figure(figsize=(8, 8))\n",
    "\n",
    "plt.plot(recall_logreg_tr, precision_logreg_tr, label=\"LogRegr (train)\")\n",
    "plt.plot(recall_tree_tr, precision_tree_tr, label=\"Tree (train)\")\n",
    "plt.plot(recall_boosting_tr, precision_boosting_tr, label=\"Boosting (train)\")\n",
    "\n",
    "plt.plot(recall_logreg, precision_logreg, label=\"LogRegr (test)\")\n",
    "plt.plot(recall_tree, precision_tree, label=\"Tree (test)\")\n",
    "plt.plot(recall_boosting, precision_boosting, label=\"Boosting (test)\")\n",
    "\n",
    "plt.title(\"Precision-Recall Curve\", )\n",
    "plt.xlabel(\"Recall\")\n",
    "plt.ylabel(\"Precision\")\n",
    "plt.grid()\n",
    "plt.legend();\n"
   ]
  },
  {
   "cell_type": "markdown",
   "metadata": {},
   "source": [
    "3.3.7. We got the best model for the integral metric `AUС PR`, built on the `Logistic Regression` algorithm."
   ]
  },
  {
   "cell_type": "markdown",
   "metadata": {},
   "source": [
    "---\n",
    "\n",
    "\n",
    "# CONCLUSIONS <a class=\"anchor\" id=\"conc\"></a>"
   ]
  },
  {
   "cell_type": "markdown",
   "metadata": {},
   "source": [
    "1. We built a model for evaluating the success of a film based on various information about the film.\n",
    "\n",
    "\n",
    "2. We solved the problem of binary classification, to predict two labels: 1 (successful film) or 0 (unsuccessful film).\n",
    "\n",
    "\n",
    "3. We determined the success of the film by the average rating of the film on the IMDB, where films with a rating >= 7 were considered successful, and those with a rating < 7 were considered unsuccessful.\n",
    "\n",
    "\n",
    "4. For training the models, we have chosen 3 classification algorithms:\n",
    "    * `Logistic Regression`\n",
    "    * `Decision Tree Classifier`\n",
    "    * `Gradient Boosting Classifier`\n",
    "\n",
    "\n",
    "5. To train and evaluate the quality of the models, we split the dataset into training and test samples in a ratio of 85:15. On the training sample, we used a 5-fold cross-validation scheme to tune the hyperparameters of the models.\n",
    "\n",
    "\n",
    "6. To evaluate the quality of the models, we have chosen 4 metrics:\n",
    "    * `Precision`\n",
    "    * `Recall`\n",
    "    * `F1 score`\n",
    "    * `AUC PR`  \n",
    "\n",
    "    As the main metric for the final analysis, we used the integral metric `AUC PR`, since it does not depend on the threshold. Threshold metrics Precision, Recall, and `F1 score` are calculated with a default threshold = 0.5, which may not be optimal for different algorithms, and may not be optimal for a business.\n",
    "    At the same time, we used the `F1 score` metric to tune the hyperparameters, since a threshold metric is required to calculate the confusion matrix.\n",
    "\n",
    "\n",
    "7. Before training the model, we explore and preprocess the data:\n",
    "    * Removed technical and non-normative features\n",
    "    * removed features with a large number of nulls and a large number of unique categorical values\n",
    "    * Binorized categorical features\n",
    "    * Removed One-Hot categorical features with zeros > 99%\n",
    "    * Standardized numeric features\n",
    "    * Made Mean Target Encoding for several categorical features  \n",
    "    \n",
    "    \n",
    "8. The final sample includes 62 variables (including selected One-hot features)\n",
    "\n",
    "\n",
    "9. To train the models, we chose hyperparameters for each algorithm to reduce the overfitting of the models and to increase the quality of the models.\n",
    "\n",
    "\n",
    "10. Based on the results of training the best models, we evaluated the models' quality on the training and test samples.\n",
    "\n",
    "\n",
    "11. The results showed that, according to the `AUС PR` metric, the best algorithm was `Logistic Regression`. This may be due to the fact that we did not use the methods of reducing the dimensionality of the feature space for `Gradient Boosting`, and the training sample contains many correlated features. On the other hand, in `Logistic Regression` we used the L2-regularizer, which reduces overfitting (multicollinearity)\n",
    "\n",
    "12. We also see that `Gradient Boosting` has a higher quality than the `Decision Tree`, since the `Gradient Boosting` is an ensemble of trees that have a low bias and, due to the ensemble, reduce the variance.\n",
    "\n",
    "\n",
    "12. At the same time, according to the results, we see that all models for all metrics have been overfitted quite strongly on the training set. This may be due to the fact that we did not perform a correlation analysis of features and did not remove strongly correlated features. In logistic regression, the L2-regularization parameter was tuned to combat multicollinearity, but even this parameter did not help much to reduce overfitting.\n",
    "\n",
    "\n",
    "13. Further improvement of the models is possible through the use of various methods of feature selection based on `filters` and `wrappers`.\n",
    "\n",
    "\n",
    "14. It is also possible to improve models by creating additional features. For example, textual data about a movie can be processed using NLP approaches such as `tf-idf` or `bag of words`. Based on the received text embeddings, new informative features can be constructed.\n",
    "\n",
    "\n"
   ]
  },
  {
   "cell_type": "markdown",
   "metadata": {},
   "source": [
    "---\n",
    "\n",
    "*Prepared by Sergey Afanasiev*"
   ]
  },
  {
   "cell_type": "code",
   "execution_count": null,
   "metadata": {},
   "outputs": [],
   "source": []
  }
 ],
 "metadata": {
  "kernelspec": {
   "display_name": "Python 3",
   "language": "python",
   "name": "python3"
  },
  "language_info": {
   "codemirror_mode": {
    "name": "ipython",
    "version": 3
   },
   "file_extension": ".py",
   "mimetype": "text/x-python",
   "name": "python",
   "nbconvert_exporter": "python",
   "pygments_lexer": "ipython3",
   "version": "3.8.3"
  }
 },
 "nbformat": 4,
 "nbformat_minor": 4
}
